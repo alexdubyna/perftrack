{
 "cells": [
  {
   "cell_type": "code",
   "execution_count": 1,
   "metadata": {},
   "outputs": [],
   "source": [
    "import pandas as pd \n",
    "import os\n",
    "import re\n",
    "from functions import read_data, read_prices, cumul_volumes, basic_charts, get_all_data, calc_performance\n",
    "import matplotlib\n",
    "import datetime\n",
    "%matplotlib inline \n",
    "#notebook"
   ]
  },
  {
   "cell_type": "code",
   "execution_count": null,
   "metadata": {},
   "outputs": [],
   "source": [
    "#import earthpy as et\n",
    "# Change the directory to that path\n",
    "#os.chdir(os.path.join(et.io.HOME, 'earth-analytics'))"
   ]
  },
  {
   "cell_type": "code",
   "execution_count": 2,
   "metadata": {},
   "outputs": [
    {
     "name": "stdout",
     "output_type": "stream",
     "text": [
      "You have/had investments in these funds: \n",
      " {'Emerging Markets Equity Fund', 'Growth Fund (Annuity Lifestyle)', 'North America Equity Tracker Fund', 'World (ex-UK) Equity Tracker Fund', 'Global Equity Fund', 'Sustainable Global Equity Fund', 'UK Equity Tracker Fund'}\n"
     ]
    },
    {
     "name": "stderr",
     "output_type": "stream",
     "text": [
      "/Users/odubyna/Github/perftrack/functions.py:180: SettingWithCopyWarning: \n",
      "A value is trying to be set on a copy of a slice from a DataFrame.\n",
      "Try using .loc[row_indexer,col_indexer] = value instead\n",
      "\n",
      "See the caveats in the documentation: https://pandas.pydata.org/pandas-docs/stable/user_guide/indexing.html#returning-a-view-versus-a-copy\n",
      "  cur_df['UnitsCumul'] = round(cur_df['Units'].cumsum(),2)\n",
      "/Users/odubyna/Github/perftrack/functions.py:181: SettingWithCopyWarning: \n",
      "A value is trying to be set on a copy of a slice from a DataFrame.\n",
      "Try using .loc[row_indexer,col_indexer] = value instead\n",
      "\n",
      "See the caveats in the documentation: https://pandas.pydata.org/pandas-docs/stable/user_guide/indexing.html#returning-a-view-versus-a-copy\n",
      "  cur_df['ValueCumul'] = round(cur_df['Value'].cumsum(),2)\n",
      "/Users/odubyna/Github/perftrack/functions.py:182: SettingWithCopyWarning: \n",
      "A value is trying to be set on a copy of a slice from a DataFrame.\n",
      "Try using .loc[row_indexer,col_indexer] = value instead\n",
      "\n",
      "See the caveats in the documentation: https://pandas.pydata.org/pandas-docs/stable/user_guide/indexing.html#returning-a-view-versus-a-copy\n",
      "  cur_df['InvCumul'] = round(cur_df['Invested'].cumsum(), 2)\n",
      "/Users/odubyna/Github/perftrack/functions.py:232: FutureWarning: Indexing with multiple keys (implicitly converted to a tuple of keys) will be deprecated, use a list instead.\n",
      "  dfperf = df.groupby('Unit Price Date')['Unit Price Date', 'Invested', 'InvCumul', 'CurVal'].sum().copy()\n"
     ]
    }
   ],
   "source": [
    "#Use caase 0.2 - read & clean everything together\n",
    "dt = calc_performance(get_all_data())"
   ]
  },
  {
   "cell_type": "code",
   "execution_count": 14,
   "metadata": {},
   "outputs": [],
   "source": [
    "dt.reset_index(inplace = True)"
   ]
  },
  {
   "cell_type": "code",
   "execution_count": 16,
   "metadata": {},
   "outputs": [
    {
     "data": {
      "text/html": [
       "<div>\n",
       "<style scoped>\n",
       "    .dataframe tbody tr th:only-of-type {\n",
       "        vertical-align: middle;\n",
       "    }\n",
       "\n",
       "    .dataframe tbody tr th {\n",
       "        vertical-align: top;\n",
       "    }\n",
       "\n",
       "    .dataframe thead th {\n",
       "        text-align: right;\n",
       "    }\n",
       "</style>\n",
       "<table border=\"1\" class=\"dataframe\">\n",
       "  <thead>\n",
       "    <tr style=\"text-align: right;\">\n",
       "      <th></th>\n",
       "      <th>Unit Price Date</th>\n",
       "      <th>Invested</th>\n",
       "      <th>InvCumul</th>\n",
       "      <th>CurVal</th>\n",
       "      <th>Profit</th>\n",
       "      <th>Performance</th>\n",
       "    </tr>\n",
       "  </thead>\n",
       "  <tbody>\n",
       "    <tr>\n",
       "      <th>0</th>\n",
       "      <td>2018-02-28</td>\n",
       "      <td>779.51</td>\n",
       "      <td>779.51</td>\n",
       "      <td>779.50</td>\n",
       "      <td>-0.01</td>\n",
       "      <td>-0.00</td>\n",
       "    </tr>\n",
       "    <tr>\n",
       "      <th>1</th>\n",
       "      <td>2018-03-28</td>\n",
       "      <td>599.40</td>\n",
       "      <td>1378.91</td>\n",
       "      <td>1357.30</td>\n",
       "      <td>-21.61</td>\n",
       "      <td>-0.02</td>\n",
       "    </tr>\n",
       "    <tr>\n",
       "      <th>2</th>\n",
       "      <td>2018-04-30</td>\n",
       "      <td>599.40</td>\n",
       "      <td>1978.31</td>\n",
       "      <td>1995.46</td>\n",
       "      <td>17.15</td>\n",
       "      <td>0.01</td>\n",
       "    </tr>\n",
       "    <tr>\n",
       "      <th>3</th>\n",
       "      <td>2018-05-31</td>\n",
       "      <td>599.40</td>\n",
       "      <td>2577.71</td>\n",
       "      <td>2630.50</td>\n",
       "      <td>52.79</td>\n",
       "      <td>0.02</td>\n",
       "    </tr>\n",
       "    <tr>\n",
       "      <th>4</th>\n",
       "      <td>2018-06-28</td>\n",
       "      <td>599.40</td>\n",
       "      <td>3177.11</td>\n",
       "      <td>3227.58</td>\n",
       "      <td>50.47</td>\n",
       "      <td>0.02</td>\n",
       "    </tr>\n",
       "  </tbody>\n",
       "</table>\n",
       "</div>"
      ],
      "text/plain": [
       "  Unit Price Date  Invested  InvCumul   CurVal  Profit  Performance\n",
       "0      2018-02-28    779.51    779.51   779.50   -0.01        -0.00\n",
       "1      2018-03-28    599.40   1378.91  1357.30  -21.61        -0.02\n",
       "2      2018-04-30    599.40   1978.31  1995.46   17.15         0.01\n",
       "3      2018-05-31    599.40   2577.71  2630.50   52.79         0.02\n",
       "4      2018-06-28    599.40   3177.11  3227.58   50.47         0.02"
      ]
     },
     "execution_count": 16,
     "metadata": {},
     "output_type": "execute_result"
    }
   ],
   "source": [
    "dt.head()"
   ]
  },
  {
   "cell_type": "code",
   "execution_count": 17,
   "metadata": {},
   "outputs": [
    {
     "data": {
      "image/png": "[encoded data removed]",
      "text/plain": [
       "<Figure size 1008x648 with 1 Axes>"
      ]
     },
     "metadata": {
      "needs_background": "light"
     },
     "output_type": "display_data"
    }
   ],
   "source": [
    "line_c = dt.plot(x = 'Unit Price Date', y = 'Profit', kind= 'line', figsize=(14,9))"
   ]
  },
  {
   "cell_type": "code",
   "execution_count": null,
   "metadata": {},
   "outputs": [],
   "source": [
    "os.getcwd()"
   ]
  },
  {
   "cell_type": "code",
   "execution_count": null,
   "metadata": {},
   "outputs": [],
   "source": [
    "#Use case 0.1 - read prices and data separately\n",
    "data, prices = cumul_volumes(read_data()), read_prices()"
   ]
  },
  {
   "cell_type": "code",
   "execution_count": null,
   "metadata": {},
   "outputs": [],
   "source": [
    "prices[prices[]].head()"
   ]
  },
  {
   "cell_type": "code",
   "execution_count": null,
   "metadata": {},
   "outputs": [],
   "source": [
    "prices.Fund.unique()"
   ]
  },
  {
   "cell_type": "code",
   "execution_count": null,
   "metadata": {},
   "outputs": [],
   "source": [
    "data.Fund.unique()"
   ]
  },
  {
   "cell_type": "code",
   "execution_count": null,
   "metadata": {},
   "outputs": [],
   "source": [
    "data[data['Fund'] == 'UK Equity Tracker Fund']"
   ]
  },
  {
   "cell_type": "code",
   "execution_count": null,
   "metadata": {},
   "outputs": [],
   "source": [
    "#data[data['Unit Price Date'] == '2019-12-24']"
   ]
  },
  {
   "cell_type": "code",
   "execution_count": null,
   "metadata": {
    "scrolled": true
   },
   "outputs": [],
   "source": [
    "#data.groupby('Unit Price Date')['Unit Price Date','Fund','UnitsCumul'].tail()"
   ]
  },
  {
   "cell_type": "code",
   "execution_count": null,
   "metadata": {},
   "outputs": [],
   "source": [
    "data.tail(10)"
   ]
  },
  {
   "cell_type": "code",
   "execution_count": null,
   "metadata": {},
   "outputs": [],
   "source": [
    "line_c = data[data['Fund'] == 'North America Equity Tracker Fund'] \\\n",
    "    .plot(x = 'Unit Price Date' , y = 'UnitsCumul', kind= 'line', figsize=(14,9))"
   ]
  },
  {
   "cell_type": "code",
   "execution_count": null,
   "metadata": {},
   "outputs": [],
   "source": [
    "prices.head()"
   ]
  },
  {
   "cell_type": "code",
   "execution_count": null,
   "metadata": {},
   "outputs": [],
   "source": [
    "prices['Fund Name'].unique()"
   ]
  },
  {
   "cell_type": "code",
   "execution_count": null,
   "metadata": {
    "pycharm": {
     "name": "#%%\n"
    }
   },
   "outputs": [],
   "source": [
    "line_chart = prices[prices['Fund Name'] == 'UK Equity Tracker Fund'] \\\n",
    "    .plot(x = 'Unit Price Date' , y = 'Unit Price', kind= 'line', figsize=(14,9))"
   ]
  },
  {
   "cell_type": "code",
   "execution_count": null,
   "metadata": {},
   "outputs": [],
   "source": [
    "for fnd in prices['Fund Name'].unique():\n",
    "    line_chart = prices[prices['Fund Name'] == fnd] \\\n",
    "    .plot(x = 'Unit Price Date' , y = 'Unit Price', kind= 'line', figsize=(14,9), title = fnd)\n",
    "    "
   ]
  },
  {
   "cell_type": "code",
   "execution_count": null,
   "metadata": {},
   "outputs": [],
   "source": [
    "#line_chart = prices[(prices['Unit Price Date'] > datetime.date(2020,1,1)) & \\\n",
    "#       (prices['Unit Price Date'] < datetime.date(2021,1,1)) & \\\n",
    "#        (prices['Fund Name'] == 'UK Equity Tracker Fund')] \\\n",
    "#    .plot.line(x = 'Unit Price Date' , y = 'Unit Price')"
   ]
  },
  {
   "cell_type": "code",
   "execution_count": null,
   "metadata": {},
   "outputs": [],
   "source": [
    "#mtr = prices[(prices['Unit Price Date'] > datetime.date(2020,12,1)) & \\\n",
    "#       (prices['Unit Price Date'] < datetime.date(2021,1,1)) & \\\n",
    "#        (prices['Fund Name'] == 'UK Equity Tracker Fund')]"
   ]
  },
  {
   "cell_type": "code",
   "execution_count": null,
   "metadata": {},
   "outputs": [],
   "source": [
    "#\n",
    "#mtr = prices[(prices['Unit Price Date'] > datetime.date(2020,1,1)) & \\\n",
    "#       (prices['Unit Price Date'] < datetime.date(2021,1,1)) & \\\n",
    "#        (prices['Fund Name'] == 'UK Equity Tracker Fund') & \\\n",
    "#            (prices['Unit Price'] > 2.0) & \\\n",
    "#       (prices['Unit Price'] < 3.0) ]"
   ]
  },
  {
   "cell_type": "code",
   "execution_count": null,
   "metadata": {},
   "outputs": [],
   "source": [
    "data.Fund.unique()"
   ]
  },
  {
   "cell_type": "code",
   "execution_count": null,
   "metadata": {},
   "outputs": [],
   "source": [
    "for i in data.Fund.unique():\n",
    "    print (i)"
   ]
  },
  {
   "cell_type": "code",
   "execution_count": null,
   "metadata": {},
   "outputs": [],
   "source": [
    "alldata = pd.merge(data, prices, how='left', left_on = ('Unit Price Date','Fund'),\n",
    "                   right_on = ('Unit Price Date','Fund'), copy=True)"
   ]
  },
  {
   "cell_type": "code",
   "execution_count": null,
   "metadata": {},
   "outputs": [],
   "source": [
    "alldata.info()"
   ]
  },
  {
   "cell_type": "code",
   "execution_count": null,
   "metadata": {},
   "outputs": [],
   "source": [
    "alldata[alldata['Unit Price'].isnull()]"
   ]
  },
  {
   "cell_type": "code",
   "execution_count": null,
   "metadata": {},
   "outputs": [],
   "source": [
    "alldata.info()"
   ]
  },
  {
   "cell_type": "code",
   "execution_count": null,
   "metadata": {},
   "outputs": [],
   "source": [
    "alldata[alldata['Unit Price Date'] == datetime.date(2018,12,31)]"
   ]
  },
  {
   "cell_type": "code",
   "execution_count": null,
   "metadata": {},
   "outputs": [],
   "source": [
    "alldata[alldata['Unit Price Date'] == datetime.date(2018,12,31)]"
   ]
  },
  {
   "cell_type": "code",
   "execution_count": null,
   "metadata": {},
   "outputs": [],
   "source": [
    "alldata.groupby('Fund')['Fund','Unit Price Date','Unit Price'].head()"
   ]
  },
  {
   "cell_type": "code",
   "execution_count": null,
   "metadata": {},
   "outputs": [],
   "source": [
    "alldata['Unit Price'] = alldata.groupby('Fund')['Unit Price'].fillna(method = 'ffill')"
   ]
  },
  {
   "cell_type": "code",
   "execution_count": null,
   "metadata": {},
   "outputs": [],
   "source": [
    "alldata[alldata['Unit Price Date'] == datetime.date(2018,12,31)]"
   ]
  },
  {
   "cell_type": "code",
   "execution_count": null,
   "metadata": {},
   "outputs": [],
   "source": []
  },
  {
   "cell_type": "code",
   "execution_count": null,
   "metadata": {},
   "outputs": [],
   "source": [
    "dt[(dt['Unit Price'].isnull()) & (dt['ValueCumul'].notnull())]"
   ]
  },
  {
   "cell_type": "code",
   "execution_count": null,
   "metadata": {},
   "outputs": [],
   "source": [
    "dt.info()"
   ]
  },
  {
   "cell_type": "code",
   "execution_count": null,
   "metadata": {},
   "outputs": [],
   "source": [
    "dt[dt['Unit Price Date'] == datetime.date(2018,12,31)]"
   ]
  },
  {
   "cell_type": "code",
   "execution_count": null,
   "metadata": {},
   "outputs": [],
   "source": [
    "dt[dt['Unit Price Date'] == datetime.date(2018,11,27)]"
   ]
  },
  {
   "cell_type": "code",
   "execution_count": null,
   "metadata": {},
   "outputs": [],
   "source": [
    "dt.tail(20)"
   ]
  },
  {
   "cell_type": "code",
   "execution_count": null,
   "metadata": {},
   "outputs": [],
   "source": [
    "dt.groupby('Unit Price Date')['Unit Price Date','Value','Invested','InvCumul','CurVal'].sum()"
   ]
  },
  {
   "cell_type": "code",
   "execution_count": null,
   "metadata": {},
   "outputs": [],
   "source": [
    "data.tail(20)"
   ]
  },
  {
   "cell_type": "code",
   "execution_count": null,
   "metadata": {},
   "outputs": [],
   "source": [
    "testframe = pd.read_csv(os.path.join('data', 'transaction-details (34).csv'), sep=',',\n",
    "                                                  header='infer', dayfirst=True, cache_dates=False)"
   ]
  },
  {
   "cell_type": "code",
   "execution_count": null,
   "metadata": {},
   "outputs": [],
   "source": [
    "testframe.loc[0][0]"
   ]
  },
  {
   "cell_type": "code",
   "execution_count": null,
   "metadata": {},
   "outputs": [],
   "source": [
    " n = float(re.findall(r\"[-+]?\\d*\\.\\d+|\\d+\", testframe.loc[0][0])[0])"
   ]
  },
  {
   "cell_type": "code",
   "execution_count": null,
   "metadata": {},
   "outputs": [],
   "source": [
    "n"
   ]
  },
  {
   "cell_type": "code",
   "execution_count": null,
   "metadata": {},
   "outputs": [],
   "source": []
  }
 ],
 "metadata": {
  "kernelspec": {
   "display_name": "Python 3",
   "language": "python",
   "name": "python3"
  },
  "language_info": {
   "codemirror_mode": {
    "name": "ipython",
    "version": 3
   },
   "file_extension": ".py",
   "mimetype": "text/x-python",
   "name": "python",
   "nbconvert_exporter": "python",
   "pygments_lexer": "ipython3",
   "version": "3.7.6"
  }
 },
 "nbformat": 4,
 "nbformat_minor": 4
}
