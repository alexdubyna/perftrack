{
 "cells": [
  {
   "cell_type": "code",
   "execution_count": null,
   "metadata": {},
   "outputs": [],
   "source": [
    "import pandas as pd \n",
    "import os\n",
    "from functions import read_data, read_prices, cumul_volumes\n",
    "import matplotlib\n",
    "import datetime\n",
    "%matplotlib inline \n",
    "#notebook"
   ]
  },
  {
   "cell_type": "code",
   "execution_count": null,
   "metadata": {},
   "outputs": [],
   "source": [
    "#import earthpy as et\n",
    "# Change the directory to that path\n",
    "#os.chdir(os.path.join(et.io.HOME, 'earth-analytics'))"
   ]
  },
  {
   "cell_type": "code",
   "execution_count": null,
   "metadata": {},
   "outputs": [],
   "source": [
    "os.getcwd()"
   ]
  },
  {
   "cell_type": "code",
   "execution_count": null,
   "metadata": {},
   "outputs": [],
   "source": [
    "data, prices = cumul_volumes(read_data()), read_prices()"
   ]
  },
  {
   "cell_type": "code",
   "execution_count": null,
   "metadata": {},
   "outputs": [],
   "source": [
    "data[data['Fund'] == 'UK Equity Tracker Fund']"
   ]
  },
  {
   "cell_type": "code",
   "execution_count": null,
   "metadata": {},
   "outputs": [],
   "source": [
    "#data[data['Unit Price Date'] == '2019-12-24']"
   ]
  },
  {
   "cell_type": "code",
   "execution_count": null,
   "metadata": {
    "scrolled": true
   },
   "outputs": [],
   "source": [
    "#data.groupby('Unit Price Date')['Unit Price Date','Fund','UnitsCumul'].tail()"
   ]
  },
  {
   "cell_type": "code",
   "execution_count": null,
   "metadata": {},
   "outputs": [],
   "source": [
    "prices.head()"
   ]
  },
  {
   "cell_type": "code",
   "execution_count": null,
   "metadata": {},
   "outputs": [],
   "source": [
    "prices['Fund Name'].unique()"
   ]
  },
  {
   "cell_type": "code",
   "execution_count": null,
   "metadata": {
    "pycharm": {
     "name": "#%%\n"
    }
   },
   "outputs": [],
   "source": [
    "line_chart = prices[prices['Fund Name'] == 'UK Equity Tracker Fund'] \\\n",
    "    .plot(x = 'Unit Price Date' , y = 'Unit Price', kind= 'line', figsize=(14,9))"
   ]
  },
  {
   "cell_type": "code",
   "execution_count": null,
   "metadata": {},
   "outputs": [],
   "source": [
    "for fnd in prices['Fund Name'].unique():\n",
    "    line_chart = prices[prices['Fund Name'] == fnd] \\\n",
    "    .plot(x = 'Unit Price Date' , y = 'Unit Price', kind= 'line', figsize=(14,9), title = fnd)\n",
    "    "
   ]
  },
  {
   "cell_type": "code",
   "execution_count": null,
   "metadata": {},
   "outputs": [],
   "source": [
    "#line_chart = prices[(prices['Unit Price Date'] > datetime.date(2020,1,1)) & \\\n",
    "#       (prices['Unit Price Date'] < datetime.date(2021,1,1)) & \\\n",
    "#        (prices['Fund Name'] == 'UK Equity Tracker Fund')] \\\n",
    "#    .plot.line(x = 'Unit Price Date' , y = 'Unit Price')"
   ]
  },
  {
   "cell_type": "code",
   "execution_count": null,
   "metadata": {},
   "outputs": [],
   "source": [
    "#mtr = prices[(prices['Unit Price Date'] > datetime.date(2020,12,1)) & \\\n",
    "#       (prices['Unit Price Date'] < datetime.date(2021,1,1)) & \\\n",
    "#        (prices['Fund Name'] == 'UK Equity Tracker Fund')]"
   ]
  },
  {
   "cell_type": "code",
   "execution_count": null,
   "metadata": {},
   "outputs": [],
   "source": [
    "#\n",
    "#mtr = prices[(prices['Unit Price Date'] > datetime.date(2020,1,1)) & \\\n",
    "#       (prices['Unit Price Date'] < datetime.date(2021,1,1)) & \\\n",
    "#        (prices['Fund Name'] == 'UK Equity Tracker Fund') & \\\n",
    "#            (prices['Unit Price'] > 2.0) & \\\n",
    "#       (prices['Unit Price'] < 3.0) ]"
   ]
  },
  {
   "cell_type": "code",
   "execution_count": null,
   "metadata": {},
   "outputs": [],
   "source": []
  }
 ],
 "metadata": {
  "kernelspec": {
   "display_name": "Python 3",
   "language": "python",
   "name": "python3"
  },
  "language_info": {
   "codemirror_mode": {
    "name": "ipython",
    "version": 3
   },
   "file_extension": ".py",
   "mimetype": "text/x-python",
   "name": "python",
   "nbconvert_exporter": "python",
   "pygments_lexer": "ipython3",
   "version": "3.7.6"
  }
 },
 "nbformat": 4,
 "nbformat_minor": 4
}
